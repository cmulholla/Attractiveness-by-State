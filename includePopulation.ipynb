{
 "cells": [
  {
   "cell_type": "code",
   "execution_count": 1,
   "metadata": {},
   "outputs": [],
   "source": [
    "# the intention of this script is to retrieve each university out of \"College Rankings __ Attractiveness of the Students\" + num + \".html\" and store it in a list\n",
    "# the list will be used to create an dataframe with the university and attractiveness\n",
    "# the script will then find the state AND POPULATION of each university and store it with the university and attractiveness\n",
    "# the script will then calculate each state's average attractiveness and store it in a dataframe\n",
    "# this dataframe will be used to create a heatmap of the US with the average attractiveness of each state"
   ]
  },
  {
   "cell_type": "code",
   "execution_count": 2,
   "metadata": {},
   "outputs": [],
   "source": [
    "import pandas as pd\n",
    "import numpy as np\n",
    "import re\n",
    "import requests\n",
    "from bs4 import BeautifulSoup\n",
    "import matplotlib.pyplot as plt\n",
    "import seaborn as sns"
   ]
  },
  {
   "cell_type": "code",
   "execution_count": 3,
   "metadata": {},
   "outputs": [
    {
     "name": "stdout",
     "output_type": "stream",
     "text": [
      "505\n",
      "505\n"
     ]
    }
   ],
   "source": [
    "universities = []\n",
    "attractiveness = []\n",
    "\n",
    "# retrieve the universities and attractiveness score from each html file\n",
    "\n",
    "for i in range(1, 7):\n",
    "    with open(\"College Rankings __ Attractiveness of the Students\" + str(i) + \".html\") as f:\n",
    "        soup = BeautifulSoup(f, 'html.parser')\n",
    "        universitiesBS = soup.find_all('a', class_='ratings_list')\n",
    "        for university in universitiesBS:\n",
    "            universities.append(university.string)\n",
    "        attractivenessBS = soup.find_all('div', align='right')\n",
    "        for attr in attractivenessBS:\n",
    "            attractiveness.append(attr.string)\n",
    "\n",
    "\n",
    "# clean the attractiveness list\n",
    "# remove all the None values\n",
    "attractiveness = [x for x in attractiveness if x is not None]\n",
    "\n",
    "# remove all the elements which start with S, as they are not floats\n",
    "attractiveness = [x for x in attractiveness if not x.startswith('S')]\n",
    "\n",
    "#print(universities)\n",
    "#print(attractiveness)\n",
    "\n",
    "print(len(universities))\n",
    "print(len(attractiveness))\n"
   ]
  },
  {
   "cell_type": "code",
   "execution_count": 4,
   "metadata": {},
   "outputs": [
    {
     "data": {
      "text/html": [
       "<div>\n",
       "<style scoped>\n",
       "    .dataframe tbody tr th:only-of-type {\n",
       "        vertical-align: middle;\n",
       "    }\n",
       "\n",
       "    .dataframe tbody tr th {\n",
       "        vertical-align: top;\n",
       "    }\n",
       "\n",
       "    .dataframe thead th {\n",
       "        text-align: right;\n",
       "    }\n",
       "</style>\n",
       "<table border=\"1\" class=\"dataframe\">\n",
       "  <thead>\n",
       "    <tr style=\"text-align: right;\">\n",
       "      <th></th>\n",
       "      <th>University</th>\n",
       "      <th>Attractiveness</th>\n",
       "    </tr>\n",
       "  </thead>\n",
       "  <tbody>\n",
       "    <tr>\n",
       "      <th>0</th>\n",
       "      <td>Pepperdine University</td>\n",
       "      <td>89.7</td>\n",
       "    </tr>\n",
       "    <tr>\n",
       "      <th>1</th>\n",
       "      <td>Villanova University</td>\n",
       "      <td>87.8</td>\n",
       "    </tr>\n",
       "    <tr>\n",
       "      <th>2</th>\n",
       "      <td>Vanderbilt University</td>\n",
       "      <td>87.5</td>\n",
       "    </tr>\n",
       "    <tr>\n",
       "      <th>3</th>\n",
       "      <td>Texas Christian University</td>\n",
       "      <td>87.2</td>\n",
       "    </tr>\n",
       "    <tr>\n",
       "      <th>4</th>\n",
       "      <td>Southern Methodist University</td>\n",
       "      <td>87.0</td>\n",
       "    </tr>\n",
       "    <tr>\n",
       "      <th>500</th>\n",
       "      <td>Worcester Polytechnic Institute</td>\n",
       "      <td>28.2</td>\n",
       "    </tr>\n",
       "    <tr>\n",
       "      <th>501</th>\n",
       "      <td>University of Missouri, Rolla</td>\n",
       "      <td>27.5</td>\n",
       "    </tr>\n",
       "    <tr>\n",
       "      <th>502</th>\n",
       "      <td>Polytechnic University</td>\n",
       "      <td>26.7</td>\n",
       "    </tr>\n",
       "    <tr>\n",
       "      <th>503</th>\n",
       "      <td>Rose-Hulman Institute of Technology</td>\n",
       "      <td>26.4</td>\n",
       "    </tr>\n",
       "    <tr>\n",
       "      <th>504</th>\n",
       "      <td>Clarkson University</td>\n",
       "      <td>24.1</td>\n",
       "    </tr>\n",
       "  </tbody>\n",
       "</table>\n",
       "</div>"
      ],
      "text/plain": [
       "                              University Attractiveness\n",
       "0                  Pepperdine University           89.7\n",
       "1                   Villanova University           87.8\n",
       "2                  Vanderbilt University           87.5\n",
       "3             Texas Christian University           87.2\n",
       "4          Southern Methodist University           87.0\n",
       "500      Worcester Polytechnic Institute           28.2\n",
       "501        University of Missouri, Rolla           27.5\n",
       "502               Polytechnic University           26.7\n",
       "503  Rose-Hulman Institute of Technology           26.4\n",
       "504                  Clarkson University           24.1"
      ]
     },
     "execution_count": 4,
     "metadata": {},
     "output_type": "execute_result"
    }
   ],
   "source": [
    "# create a dataframe with the universities and their attractiveness\n",
    "df = pd.DataFrame({\"University\": universities, \"Attractiveness\": attractiveness})\n",
    "\n",
    "# replace \"Malone College\" with \"Malone University\" as it is now known\n",
    "df.loc[df[\"University\"] == \"Malone College\", \"University\"] = \"Malone University\"\n",
    "\n",
    "# print the head and tail of the dataframe by combining them and printing them\n",
    "pd.concat([df.head(), df.tail()])"
   ]
  },
  {
   "cell_type": "code",
   "execution_count": 5,
   "metadata": {},
   "outputs": [],
   "source": [
    "\n",
    "# list of all the states in the US for simple regex matching (taken from https://gist.github.com/norcal82/e4c7e8113f377db184bb)\n",
    "state_names = [\"Alaska\", \"Alabama\", \"Arkansas\", \"American Samoa\", \"Arizona\", \"California\", \"Colorado\", \"Connecticut\", \"District of Columbia\", \"Delaware\", \"Florida\", \"Georgia\", \"Guam\", \"Hawaii\", \"Iowa\", \"Idaho\", \"Illinois\", \"Indiana\", \"Kansas\", \"Kentucky\", \"Louisiana\", \"Massachusetts\", \"Maryland\", \"Maine\", \"Michigan\", \"Minnesota\", \"Missouri\", \"Mississippi\", \"Montana\", \"North Carolina\", \"North Dakota\", \"Nebraska\", \"New Hampshire\", \"New Jersey\", \"New Mexico\", \"Nevada\", \"New York\", \"Ohio\", \"Oklahoma\", \"Oregon\", \"Pennsylvania\", \"Puerto Rico\", \"Rhode Island\", \"South Carolina\", \"South Dakota\", \"Tennessee\", \"Texas\", \"Utah\", \"Virginia\", \"Virgin Islands\", \"Vermont\", \"Washington\", \"Wisconsin\", \"West Virginia\", \"Wyoming\"]\n"
   ]
  },
  {
   "cell_type": "code",
   "execution_count": 71,
   "metadata": {},
   "outputs": [],
   "source": [
    "def find_population_from_wiki(wiki_page_soup: BeautifulSoup):\n",
    "\n",
    "    # get the table with the state and population\n",
    "    table = None\n",
    "    rows = None\n",
    "    try:\n",
    "        table = wiki_page_soup.find('table', class_='infobox vcard')\n",
    "        rows = table.find_all('tr')\n",
    "    except:\n",
    "        print(\"No table found\")\n",
    "        return None\n",
    "\n",
    "    # iterate through the rows and find the population\n",
    "    for row in rows:\n",
    "\n",
    "        if len(row.find_all('th')) != 0:\n",
    "            #print(row.find_all('th'))\n",
    "            if row.find_all('th')[0].string == \"Population\" or row.find_all('th')[0].string == \"Students\":\n",
    "                return int(re.search(r'\\d{1,3}(,\\d{3})*', row.find_all('td')[0].get_text()).group().replace(\",\", \"\"))\n",
    "            if row.find_all('th')[0].string == \"Undergraduates\":\n",
    "                print(re.search(r'\\d{1,3}(,\\d{3})*', row.find_all('td')[0].get_text()).group())\n",
    "                return int(int(re.search(r'\\d{1,3}(,\\d{3})*', row.find_all('td')[0].get_text()).group().replace(\",\", \"\"))*1.1)\n",
    "    print(\"Population not found\")\n",
    "    return None\n",
    "\n",
    "    "
   ]
  },
  {
   "cell_type": "code",
   "execution_count": 90,
   "metadata": {},
   "outputs": [
    {
     "name": "stdout",
     "output_type": "stream",
     "text": [
      "Pepperdine University\n",
      "https://en.wikipedia.org/wiki/Pepperdine_University\n",
      "10030\n",
      "State not found\n",
      "None\n"
     ]
    },
    {
     "ename": "AttributeError",
     "evalue": "'NoneType' object has no attribute 'append'",
     "output_type": "error",
     "traceback": [
      "\u001b[1;31m---------------------------------------------------------------------------\u001b[0m",
      "\u001b[1;31mAttributeError\u001b[0m                            Traceback (most recent call last)",
      "Cell \u001b[1;32mIn[90], line 67\u001b[0m\n\u001b[0;32m     66\u001b[0m \u001b[38;5;28;01mtry\u001b[39;00m:\n\u001b[1;32m---> 67\u001b[0m     \u001b[43mstate\u001b[49m\u001b[38;5;241;43m.\u001b[39;49m\u001b[43mappend\u001b[49m(soup\u001b[38;5;241m.\u001b[39mfind_all(\u001b[38;5;124m\"\u001b[39m\u001b[38;5;124mdiv\u001b[39m\u001b[38;5;124m\"\u001b[39m, class_\u001b[38;5;241m=\u001b[39m\u001b[38;5;124m\"\u001b[39m\u001b[38;5;124mstate\u001b[39m\u001b[38;5;124m\"\u001b[39m)[\u001b[38;5;241m0\u001b[39m]\u001b[38;5;241m.\u001b[39mstring)\n\u001b[0;32m     68\u001b[0m \u001b[38;5;28;01mexcept\u001b[39;00m:\n",
      "\u001b[1;31mAttributeError\u001b[0m: 'NoneType' object has no attribute 'append'",
      "\nDuring handling of the above exception, another exception occurred:\n",
      "\u001b[1;31mTypeError\u001b[0m                                 Traceback (most recent call last)",
      "Cell \u001b[1;32mIn[90], line 70\u001b[0m\n\u001b[0;32m     69\u001b[0m \u001b[38;5;28;01mtry\u001b[39;00m:\n\u001b[1;32m---> 70\u001b[0m     \u001b[43mstate\u001b[49m\u001b[43m[\u001b[49m\u001b[38;5;241;43m-\u001b[39;49m\u001b[38;5;241;43m1\u001b[39;49m\u001b[43m]\u001b[49m \u001b[38;5;241m=\u001b[39m soup\u001b[38;5;241m.\u001b[39mfind_all(\u001b[38;5;124m\"\u001b[39m\u001b[38;5;124mdiv\u001b[39m\u001b[38;5;124m\"\u001b[39m, class_\u001b[38;5;241m=\u001b[39m\u001b[38;5;124m\"\u001b[39m\u001b[38;5;124mlocality\u001b[39m\u001b[38;5;124m\"\u001b[39m)[\u001b[38;5;241m0\u001b[39m]\u001b[38;5;241m.\u001b[39mstring\n\u001b[0;32m     71\u001b[0m     \u001b[38;5;66;03m# if there's a comma+space in the locality, remove it along with everything before it\u001b[39;00m\n",
      "\u001b[1;31mTypeError\u001b[0m: 'NoneType' object does not support item assignment",
      "\nDuring handling of the above exception, another exception occurred:\n",
      "\u001b[1;31mAttributeError\u001b[0m                            Traceback (most recent call last)",
      "Cell \u001b[1;32mIn[90], line 75\u001b[0m\n\u001b[0;32m     73\u001b[0m     \u001b[38;5;28mprint\u001b[39m(\u001b[38;5;28mstr\u001b[39m(\u001b[38;5;28mint\u001b[39m(i\u001b[38;5;241m/\u001b[39m\u001b[38;5;28mlen\u001b[39m(df[\u001b[38;5;124m\"\u001b[39m\u001b[38;5;124mUniversity\u001b[39m\u001b[38;5;124m\"\u001b[39m])\u001b[38;5;241m*\u001b[39m\u001b[38;5;241m1000\u001b[39m)\u001b[38;5;241m/\u001b[39m\u001b[38;5;241m10.0\u001b[39m) \u001b[38;5;241m+\u001b[39m \u001b[38;5;124m\"\u001b[39m\u001b[38;5;124m%\u001b[39m\u001b[38;5;124m\"\u001b[39m)\n\u001b[0;32m     74\u001b[0m \u001b[38;5;28;01mexcept\u001b[39;00m:\n\u001b[1;32m---> 75\u001b[0m     \u001b[43mstate\u001b[49m\u001b[38;5;241;43m.\u001b[39;49m\u001b[43mappend\u001b[49m(\u001b[38;5;124m\"\u001b[39m\u001b[38;5;124mN/A\u001b[39m\u001b[38;5;124m\"\u001b[39m)\n\u001b[0;32m     76\u001b[0m     population[\u001b[38;5;241m-\u001b[39m\u001b[38;5;241m1\u001b[39m] \u001b[38;5;241m=\u001b[39m \u001b[38;5;124m\"\u001b[39m\u001b[38;5;124m0\u001b[39m\u001b[38;5;124m\"\u001b[39m\n\u001b[0;32m     77\u001b[0m     \u001b[38;5;28mprint\u001b[39m(\u001b[38;5;124m\"\u001b[39m\u001b[38;5;124mN/A: \u001b[39m\u001b[38;5;124m\"\u001b[39m \u001b[38;5;241m+\u001b[39m url)\n",
      "\u001b[1;31mAttributeError\u001b[0m: 'NoneType' object has no attribute 'append'"
     ]
    }
   ],
   "source": [
    "# create a list of the states of the universities\n",
    "state = []\n",
    "population = []\n",
    "\n",
    "# create a list of the universities that couldn't be found\n",
    "not_found = []\n",
    "\n",
    "for i in range(len(df[\"University\"])):\n",
    "    print(df[\"University\"][i])\n",
    "    # check to see if one of the words in the university name is a state\n",
    "    for word in df[\"University\"][i].split():\n",
    "        if word in state_names:\n",
    "            state.append(word)\n",
    "            break\n",
    "        elif word == \"SUNY\" or word == \"CUNY\":\n",
    "            state.append(\"New York\")\n",
    "            break\n",
    "        elif word == \"Rhode\":\n",
    "            state.append(\"Rhode Island\")\n",
    "            break\n",
    "        else:\n",
    "            state.append(None)\n",
    "\n",
    "    url = \"https://en.wikipedia.org/wiki/\" + df[\"University\"][i]\n",
    "    # if the university has a space in its name, replace it with an underscore\n",
    "    url = re.sub(r\" \", \"_\", url)\n",
    "    #print(url)\n",
    "    # if the university has a parenthesis or a comma in its name, remove it along with the rest of the name\n",
    "    url = re.sub(r\"_\\(.*\", \"\", url)\n",
    "    #url = re.sub(r\",.*\", \"\", url)\n",
    "    # if the university has the words \"Main Campus\" in its name, remove it\n",
    "    url = re.sub(r\",_Main_Campus\", \"\", url)\n",
    "\n",
    "    response = requests.get(url)\n",
    "    soup = BeautifulSoup(response.text, \"html.parser\")\n",
    "\n",
    "    # if the page displays: \"Wikipedia does not have an article with this exact name\", then the university was not found\n",
    "    if len(soup.find_all(\"table\", id=\"noarticletext\")) > 0:\n",
    "        url = \"https://en.wikipedia.org/wiki/\" + df[\"University\"][i]\n",
    "        # if the university has a space in its name, replace it with an underscore\n",
    "        url = re.sub(r\" \", \"_\", url)\n",
    "        #print(url)\n",
    "        # if the university has a parenthesis or a comma in its name, remove it along with the rest of the name\n",
    "        url = re.sub(r\"_\\(.*\", \"\", url)\n",
    "        url = re.sub(r\",.*\", \"\", url)\n",
    "        # if the university has the words \"Main Campus\" in its name, remove it\n",
    "        url = re.sub(r\"Main_Campus\", \"\", url)\n",
    "        response = requests.get(url)\n",
    "        soup = BeautifulSoup(response.text, \"html.parser\")\n",
    "    \n",
    "    print(url)\n",
    "        \n",
    "\n",
    "    population.append(find_population_from_wiki(soup))\n",
    "    print(population[-1])\n",
    "    \n",
    "    if state[-1] == None:\n",
    "        print(\"State not found\")\n",
    "        # remove the None value from the very end of the list and continue to use wikipedia\n",
    "        state = state[:-1]\n",
    "    else:\n",
    "        continue\n",
    "\n",
    "    \n",
    "    try:\n",
    "        state.append(soup.find_all(\"div\", class_=\"state\")[0].string)\n",
    "    except:\n",
    "        try:\n",
    "            state[-1] = soup.find_all(\"div\", class_=\"locality\")[0].string\n",
    "            # if there's a comma+space in the locality, remove it along with everything before it\n",
    "            state[-1] = re.sub(r\".*, \", \"\", state[-1])\n",
    "            print(str(int(i/len(df[\"University\"])*1000)/10.0) + \"%\")\n",
    "        except:\n",
    "            state.append(\"N/A\")\n",
    "            population[-1] = \"0\"\n",
    "            print(\"N/A: \" + url)\n",
    "            not_found.append(df[\"University\"][i])"
   ]
  },
  {
   "cell_type": "code",
   "execution_count": 88,
   "metadata": {},
   "outputs": [
    {
     "data": {
      "text/plain": [
       "11"
      ]
     },
     "execution_count": 88,
     "metadata": {},
     "output_type": "execute_result"
    }
   ],
   "source": [
    "len(population)"
   ]
  },
  {
   "cell_type": "code",
   "execution_count": 89,
   "metadata": {},
   "outputs": [
    {
     "name": "stdout",
     "output_type": "stream",
     "text": [
      "21\n",
      "['Pennsylvania', 'Tennessee', 'Texas', None, 'Texas', 'Arizona', None, 'Ohio', None, None, 'Mississippi', None, 'South Carolina', None, None, None, 'Florida', None, None, None, 'California']\n"
     ]
    }
   ],
   "source": [
    "print(len(state))\n",
    "print(state)"
   ]
  },
  {
   "cell_type": "code",
   "execution_count": null,
   "metadata": {},
   "outputs": [],
   "source": []
  }
 ],
 "metadata": {
  "kernelspec": {
   "display_name": "Python 3",
   "language": "python",
   "name": "python3"
  },
  "language_info": {
   "codemirror_mode": {
    "name": "ipython",
    "version": 3
   },
   "file_extension": ".py",
   "mimetype": "text/x-python",
   "name": "python",
   "nbconvert_exporter": "python",
   "pygments_lexer": "ipython3",
   "version": "3.12.0"
  }
 },
 "nbformat": 4,
 "nbformat_minor": 2
}
